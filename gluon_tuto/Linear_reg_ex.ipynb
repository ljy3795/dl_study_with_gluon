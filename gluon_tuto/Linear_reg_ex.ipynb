{
 "cells": [
  {
   "cell_type": "code",
   "execution_count": 101,
   "metadata": {
    "ExecuteTime": {
     "end_time": "2018-05-07T09:36:33.338856Z",
     "start_time": "2018-05-07T09:36:33.336090Z"
    },
    "collapsed": true
   },
   "outputs": [],
   "source": [
    "## Net, Loss Function, Optimizer"
   ]
  },
  {
   "cell_type": "code",
   "execution_count": 2,
   "metadata": {
    "ExecuteTime": {
     "end_time": "2018-05-07T08:49:16.581760Z",
     "start_time": "2018-05-07T08:49:15.585550Z"
    },
    "collapsed": true
   },
   "outputs": [],
   "source": [
    "from __future__ import print_function\n",
    "import mxnet as mx\n",
    "from mxnet import nd, autograd, gluon\n",
    "mx.random.seed(1)"
   ]
  },
  {
   "cell_type": "code",
   "execution_count": 3,
   "metadata": {
    "ExecuteTime": {
     "end_time": "2018-05-07T08:49:46.811397Z",
     "start_time": "2018-05-07T08:49:46.808307Z"
    },
    "collapsed": true
   },
   "outputs": [],
   "source": [
    "data_ctx = mx.cpu()\n",
    "model_ctx = mx.cpu()"
   ]
  },
  {
   "cell_type": "code",
   "execution_count": 4,
   "metadata": {
    "ExecuteTime": {
     "end_time": "2018-05-07T08:56:07.525682Z",
     "start_time": "2018-05-07T08:56:07.522361Z"
    },
    "collapsed": true
   },
   "outputs": [],
   "source": [
    "num_inputs = 2\n",
    "num_outputs = 1\n",
    "num_examples = 10000"
   ]
  },
  {
   "cell_type": "code",
   "execution_count": 15,
   "metadata": {
    "ExecuteTime": {
     "end_time": "2018-05-07T08:58:20.869812Z",
     "start_time": "2018-05-07T08:58:20.865769Z"
    }
   },
   "outputs": [],
   "source": [
    "def real_fn(X):\n",
    "    return 2*X[:,0] -3.4*X[:,1] + 4.2"
   ]
  },
  {
   "cell_type": "code",
   "execution_count": 19,
   "metadata": {
    "ExecuteTime": {
     "end_time": "2018-05-07T08:59:03.433783Z",
     "start_time": "2018-05-07T08:59:03.428331Z"
    }
   },
   "outputs": [],
   "source": [
    "X = nd.random.normal(shape = (num_examples, num_inputs), ctx = data_ctx)\n",
    "noise = .1*nd.random.normal(shape = (num_examples,), ctx = data_ctx)\n",
    "y = real_fn(X) + noise\n",
    "# y is on data_ctx cuz X and noise are on data_ctx"
   ]
  },
  {
   "cell_type": "code",
   "execution_count": 18,
   "metadata": {
    "ExecuteTime": {
     "end_time": "2018-05-07T08:58:36.922885Z",
     "start_time": "2018-05-07T08:58:36.918156Z"
    }
   },
   "outputs": [
    {
     "name": "stdout",
     "output_type": "stream",
     "text": [
      "\n",
      "[ 0.31053242 -0.80406934]\n",
      "<NDArray 2 @cpu(0)>\n",
      "\n",
      "[ 7.48754549]\n",
      "<NDArray 1 @cpu(0)>\n"
     ]
    }
   ],
   "source": [
    "print(X[0])\n",
    "print(y[0])"
   ]
  },
  {
   "cell_type": "code",
   "execution_count": 20,
   "metadata": {
    "ExecuteTime": {
     "end_time": "2018-05-07T08:59:45.240230Z",
     "start_time": "2018-05-07T08:59:45.235481Z"
    }
   },
   "outputs": [
    {
     "name": "stdout",
     "output_type": "stream",
     "text": [
      "\n",
      "[-2.24768877]\n",
      "<NDArray 1 @cpu(0)>\n"
     ]
    }
   ],
   "source": [
    "print(2*X[0,0] -3.4*X[0,1] + 4.2)"
   ]
  },
  {
   "cell_type": "code",
   "execution_count": 23,
   "metadata": {
    "ExecuteTime": {
     "end_time": "2018-05-07T09:00:44.072535Z",
     "start_time": "2018-05-07T09:00:43.769326Z"
    }
   },
   "outputs": [
    {
     "data": {
      "image/png": "[encoded data removed]",
      "text/plain": [
       "<matplotlib.figure.Figure at 0x106e70cc0>"
      ]
     },
     "metadata": {},
     "output_type": "display_data"
    }
   ],
   "source": [
    "import matplotlib.pyplot as plt\n",
    "plt.scatter(X[:,1].asnumpy(), y.asnumpy())\n",
    "plt.show()"
   ]
  },
  {
   "cell_type": "code",
   "execution_count": 24,
   "metadata": {
    "ExecuteTime": {
     "end_time": "2018-05-07T09:03:19.077764Z",
     "start_time": "2018-05-07T09:03:19.073806Z"
    },
    "collapsed": true
   },
   "outputs": [],
   "source": [
    "## Array Batch\n",
    "batch_size = 4\n",
    "train_data = gluon.data.DataLoader(gluon.data.ArrayDataset(X,y),\n",
    "                                  batch_size=batch_size, shuffle = True)\n",
    "# its like python list type"
   ]
  },
  {
   "cell_type": "code",
   "execution_count": 28,
   "metadata": {
    "ExecuteTime": {
     "end_time": "2018-05-07T09:04:42.707833Z",
     "start_time": "2018-05-07T09:04:42.693714Z"
    }
   },
   "outputs": [
    {
     "name": "stdout",
     "output_type": "stream",
     "text": [
      "\n",
      "[[-1.40076029 -1.34730709]\n",
      " [-0.09338376 -0.95146823]\n",
      " [ 1.4378202  -1.65603256]\n",
      " [-1.78752017 -0.70206988]]\n",
      "<NDArray 4x2 @cpu(0)> \n",
      "[  6.20856667   7.25207138  12.84613705   3.11132526]\n",
      "<NDArray 4 @cpu(0)>\n"
     ]
    }
   ],
   "source": [
    "for i, (data, label) in enumerate(train_data):\n",
    "    print(data, label)\n",
    "    break"
   ]
  },
  {
   "cell_type": "code",
   "execution_count": 29,
   "metadata": {
    "ExecuteTime": {
     "end_time": "2018-05-07T09:05:11.493151Z",
     "start_time": "2018-05-07T09:05:11.038463Z"
    }
   },
   "outputs": [
    {
     "name": "stdout",
     "output_type": "stream",
     "text": [
      "2500\n"
     ]
    }
   ],
   "source": [
    "counter = 0\n",
    "for i, (data, label) in enumerate(train_data):\n",
    "    pass\n",
    "print(i+1)"
   ]
  },
  {
   "cell_type": "code",
   "execution_count": 33,
   "metadata": {
    "ExecuteTime": {
     "end_time": "2018-05-07T09:06:33.552846Z",
     "start_time": "2018-05-07T09:06:33.548396Z"
    },
    "collapsed": true
   },
   "outputs": [],
   "source": [
    "# Model parameter\n",
    "w = nd.random.normal(shape = (num_inputs, num_outputs), ctx = model_ctx)\n",
    "b = nd.random.normal(shape =num_outputs, ctx = model_ctx)\n",
    "params = [w,b]"
   ]
  },
  {
   "cell_type": "code",
   "execution_count": 37,
   "metadata": {
    "ExecuteTime": {
     "end_time": "2018-05-07T09:07:37.637275Z",
     "start_time": "2018-05-07T09:07:37.633738Z"
    }
   },
   "outputs": [],
   "source": [
    "# allocate some memory for each gradient\n",
    "for param in params:\n",
    "    param.attach_grad()"
   ]
  },
  {
   "cell_type": "code",
   "execution_count": 38,
   "metadata": {
    "ExecuteTime": {
     "end_time": "2018-05-07T09:07:55.340346Z",
     "start_time": "2018-05-07T09:07:55.336976Z"
    },
    "collapsed": true
   },
   "outputs": [],
   "source": [
    "# Neural Nets\n",
    "def net(X):\n",
    "    return mx.nd.dot(X,w) + b"
   ]
  },
  {
   "cell_type": "code",
   "execution_count": 39,
   "metadata": {
    "ExecuteTime": {
     "end_time": "2018-05-07T09:08:29.251338Z",
     "start_time": "2018-05-07T09:08:29.247948Z"
    },
    "collapsed": true
   },
   "outputs": [],
   "source": [
    "# Loss Function\n",
    "def square_loss(yhat, y):\n",
    "    return nd.mean((yhat - y)**2)"
   ]
  },
  {
   "cell_type": "code",
   "execution_count": 40,
   "metadata": {
    "ExecuteTime": {
     "end_time": "2018-05-07T09:09:20.937659Z",
     "start_time": "2018-05-07T09:09:20.934316Z"
    },
    "collapsed": true
   },
   "outputs": [],
   "source": [
    "# Optimizer\n",
    "def SGD(params, lr):\n",
    "    for param in params:\n",
    "        param[:] = param - lr*param.grad"
   ]
  },
  {
   "cell_type": "code",
   "execution_count": 41,
   "metadata": {
    "ExecuteTime": {
     "end_time": "2018-05-07T09:10:45.326435Z",
     "start_time": "2018-05-07T09:10:45.322946Z"
    },
    "collapsed": true
   },
   "outputs": [],
   "source": [
    "# Execute training loop\n",
    "epochs = 10\n",
    "lr = 0.0001\n",
    "num_batches = num_examples/batch_size"
   ]
  },
  {
   "cell_type": "code",
   "execution_count": 43,
   "metadata": {
    "ExecuteTime": {
     "end_time": "2018-05-07T09:13:39.890473Z",
     "start_time": "2018-05-07T09:13:14.141987Z"
    }
   },
   "outputs": [
    {
     "name": "stdout",
     "output_type": "stream",
     "text": [
      "26.3493830349\n",
      "9.85866044166\n",
      "3.69294822788\n",
      "1.38723590357\n",
      "0.524983645925\n",
      "0.202567355324\n",
      "0.081970860434\n",
      "0.0368648497789\n",
      "0.0200016844932\n",
      "0.0136910333379\n"
     ]
    }
   ],
   "source": [
    "for e in range(epochs):\n",
    "    cum_loss = 0\n",
    "    for i, (data, label) in enumerate(train_data):\n",
    "        data = data.as_in_context(model_ctx)\n",
    "        label = label.as_in_context(model_ctx).reshape((-1,1))\n",
    "        with autograd.record():\n",
    "            output = net(data)\n",
    "            loss = square_loss(output, label)\n",
    "        loss.backward()\n",
    "        SGD(params, lr)\n",
    "        cum_loss += loss.asscalar()\n",
    "        print(loss)\n",
    "    print(cum_loss/num_batches)"
   ]
  },
  {
   "cell_type": "code",
   "execution_count": 49,
   "metadata": {
    "ExecuteTime": {
     "end_time": "2018-05-07T09:17:50.009545Z",
     "start_time": "2018-05-07T09:17:50.004910Z"
    },
    "collapsed": true
   },
   "outputs": [],
   "source": [
    "############################################\n",
    "#    Re-initialize parameters because they\n",
    "#    were already trained in the first loop\n",
    "############################################\n",
    "w[:] = nd.random_normal(shape=(num_inputs, num_outputs), ctx=model_ctx)\n",
    "b[:] = nd.random_normal(shape=num_outputs, ctx=model_ctx)"
   ]
  },
  {
   "cell_type": "code",
   "execution_count": 50,
   "metadata": {
    "ExecuteTime": {
     "end_time": "2018-05-07T09:17:50.196345Z",
     "start_time": "2018-05-07T09:17:50.187648Z"
    },
    "collapsed": true
   },
   "outputs": [],
   "source": [
    "############################################\n",
    "#    Script to plot the losses over time\n",
    "############################################\n",
    "def plot(losses, X, sample_size=100):\n",
    "    xs = list(range(len(losses)))\n",
    "    f, (fg1, fg2) = plt.subplots(1, 2)\n",
    "    fg1.set_title('Loss during training')\n",
    "    fg1.plot(xs, losses, '-r')\n",
    "    fg2.set_title('Estimated vs real function')\n",
    "    fg2.plot(X[:sample_size, 1].asnumpy(),\n",
    "             net(X[:sample_size, :]).asnumpy(), 'or', label='Estimated')\n",
    "    fg2.plot(X[:sample_size, 1].asnumpy(),\n",
    "             real_fn(X[:sample_size, :]).asnumpy(), '*g', label='Real')\n",
    "    fg2.legend()\n",
    "\n",
    "    plt.show()"
   ]
  },
  {
   "cell_type": "code",
   "execution_count": 51,
   "metadata": {
    "ExecuteTime": {
     "end_time": "2018-05-07T09:18:16.476690Z",
     "start_time": "2018-05-07T09:17:50.356744Z"
    }
   },
   "outputs": [
    {
     "name": "stdout",
     "output_type": "stream",
     "text": [
      "Epoch 0, batch 2499. Mean loss: 16.9518271783\n",
      "Epoch 1, batch 2499. Mean loss: 6.34111349337\n",
      "Epoch 2, batch 2499. Mean loss: 2.37612864648\n",
      "Epoch 3, batch 2499. Mean loss: 0.894377977879\n",
      "Epoch 4, batch 2499. Mean loss: 0.340528121065\n",
      "Epoch 5, batch 2499. Mean loss: 0.133540610675\n",
      "Epoch 6, batch 2499. Mean loss: 0.0561298388162\n",
      "Epoch 7, batch 2499. Mean loss: 0.027200881307\n",
      "Epoch 8, batch 2499. Mean loss: 0.0163887562737\n",
      "Epoch 9, batch 2499. Mean loss: 0.01234609175\n"
     ]
    },
    {
     "data": {
      "image/png": "[encoded data removed]",
      "text/plain": [
       "<matplotlib.figure.Figure at 0x111652e80>"
      ]
     },
     "metadata": {},
     "output_type": "display_data"
    }
   ],
   "source": [
    "for e in range(epochs):\n",
    "    cumulative_loss = 0\n",
    "    for i, (data, label) in enumerate(train_data):\n",
    "        data = data.as_in_context(model_ctx)\n",
    "        label = label.as_in_context(model_ctx).reshape((-1, 1))\n",
    "        with autograd.record():\n",
    "            output = net(data)\n",
    "            loss = square_loss(output, label)\n",
    "        loss.backward()\n",
    "        SGD(params, learning_rate)\n",
    "        cumulative_loss += loss.asscalar()\n",
    "\n",
    "    print(\"Epoch %s, batch %s. Mean loss: %s\" % (e, i, cumulative_loss/num_batches))\n",
    "    losses.append(cumulative_loss/num_batches)\n",
    "\n",
    "plot(losses, X)"
   ]
  },
  {
   "cell_type": "code",
   "execution_count": null,
   "metadata": {
    "collapsed": true
   },
   "outputs": [],
   "source": []
  },
  {
   "cell_type": "code",
   "execution_count": null,
   "metadata": {
    "collapsed": true
   },
   "outputs": [],
   "source": []
  },
  {
   "cell_type": "markdown",
   "metadata": {},
   "source": [
    "### With Gluon"
   ]
  },
  {
   "cell_type": "code",
   "execution_count": 82,
   "metadata": {
    "ExecuteTime": {
     "end_time": "2018-05-07T09:32:25.788723Z",
     "start_time": "2018-05-07T09:32:25.785555Z"
    },
    "collapsed": true
   },
   "outputs": [],
   "source": [
    "net = gluon.nn.Dense(1, in_units=2)"
   ]
  },
  {
   "cell_type": "code",
   "execution_count": 83,
   "metadata": {
    "ExecuteTime": {
     "end_time": "2018-05-07T09:32:25.967306Z",
     "start_time": "2018-05-07T09:32:25.961814Z"
    }
   },
   "outputs": [
    {
     "name": "stdout",
     "output_type": "stream",
     "text": [
      "(1, 2)\n",
      "(1,)\n",
      "<class 'mxnet.gluon.parameter.Parameter'>\n"
     ]
    }
   ],
   "source": [
    "print(net.weight.shape)\n",
    "print(net.bias.shape)\n",
    "print(type(net.weight))"
   ]
  },
  {
   "cell_type": "code",
   "execution_count": 84,
   "metadata": {
    "ExecuteTime": {
     "end_time": "2018-05-07T09:32:26.117643Z",
     "start_time": "2018-05-07T09:32:26.114635Z"
    },
    "collapsed": true
   },
   "outputs": [],
   "source": [
    "# Gluon block : block is the just units that take inputs and generates outputs, also contin parameters we can update"
   ]
  },
  {
   "cell_type": "code",
   "execution_count": 85,
   "metadata": {
    "ExecuteTime": {
     "end_time": "2018-05-07T09:32:26.276864Z",
     "start_time": "2018-05-07T09:32:26.273034Z"
    }
   },
   "outputs": [
    {
     "data": {
      "text/plain": [
       "mxnet.gluon.parameter.ParameterDict"
      ]
     },
     "execution_count": 85,
     "metadata": {},
     "output_type": "execute_result"
    }
   ],
   "source": [
    "type(net.collect_params())"
   ]
  },
  {
   "cell_type": "code",
   "execution_count": 86,
   "metadata": {
    "ExecuteTime": {
     "end_time": "2018-05-07T09:32:26.822259Z",
     "start_time": "2018-05-07T09:32:26.817552Z"
    }
   },
   "outputs": [],
   "source": [
    "# parameter initialization\n",
    "net.collect_params().initialize(mx.init.Normal(sigma=1.), ctx = model_ctx)\n",
    "## initialization is deffered until first forward pass is done"
   ]
  },
  {
   "cell_type": "code",
   "execution_count": 90,
   "metadata": {
    "ExecuteTime": {
     "end_time": "2018-05-07T09:33:02.040882Z",
     "start_time": "2018-05-07T09:33:02.035683Z"
    }
   },
   "outputs": [
    {
     "data": {
      "text/plain": [
       "\n",
       "[[-10.73987865]]\n",
       "<NDArray 1x1 @cpu(0)>"
      ]
     },
     "execution_count": 90,
     "metadata": {},
     "output_type": "execute_result"
    }
   ],
   "source": [
    "ex_data = nd.array([[4,7]])\n",
    "net(ex_data)"
   ]
  },
  {
   "cell_type": "code",
   "execution_count": 93,
   "metadata": {
    "ExecuteTime": {
     "end_time": "2018-05-07T09:33:22.589364Z",
     "start_time": "2018-05-07T09:33:22.584936Z"
    }
   },
   "outputs": [
    {
     "name": "stdout",
     "output_type": "stream",
     "text": [
      "\n",
      "[[-0.23999484 -1.39712846]]\n",
      "<NDArray 1x2 @cpu(0)>\n",
      "\n",
      "[ 0.]\n",
      "<NDArray 1 @cpu(0)>\n"
     ]
    }
   ],
   "source": [
    "print(net.weight.data())\n",
    "print(net.bias.data())"
   ]
  },
  {
   "cell_type": "code",
   "execution_count": 94,
   "metadata": {
    "ExecuteTime": {
     "end_time": "2018-05-07T09:33:47.673706Z",
     "start_time": "2018-05-07T09:33:47.671015Z"
    },
    "collapsed": true
   },
   "outputs": [],
   "source": [
    "del net"
   ]
  },
  {
   "cell_type": "code",
   "execution_count": null,
   "metadata": {
    "collapsed": true
   },
   "outputs": [],
   "source": []
  },
  {
   "cell_type": "code",
   "execution_count": null,
   "metadata": {
    "collapsed": true
   },
   "outputs": [],
   "source": []
  },
  {
   "cell_type": "code",
   "execution_count": 98,
   "metadata": {
    "ExecuteTime": {
     "end_time": "2018-05-07T09:35:23.014593Z",
     "start_time": "2018-05-07T09:35:23.010228Z"
    },
    "collapsed": true
   },
   "outputs": [],
   "source": [
    "# net declaration without in_units\n",
    "net = gluon.nn.Dense(1)\n",
    "net.collect_params().initialize(mx.init.Normal(sigma=1.), ctx = model_ctx)"
   ]
  },
  {
   "cell_type": "code",
   "execution_count": 105,
   "metadata": {
    "ExecuteTime": {
     "end_time": "2018-05-07T09:44:13.681573Z",
     "start_time": "2018-05-07T09:44:13.679054Z"
    },
    "collapsed": true
   },
   "outputs": [],
   "source": [
    "## define loss\n",
    "square_loss = gluon.loss.L2Loss()"
   ]
  },
  {
   "cell_type": "code",
   "execution_count": 106,
   "metadata": {
    "ExecuteTime": {
     "end_time": "2018-05-07T09:44:14.140282Z",
     "start_time": "2018-05-07T09:44:14.136715Z"
    },
    "collapsed": true
   },
   "outputs": [],
   "source": [
    "## Optimizer\n",
    "trainer = gluon.Trainer(net.collect_params(), 'sgd', {'learning_rate':0.0001})"
   ]
  },
  {
   "cell_type": "code",
   "execution_count": 107,
   "metadata": {
    "ExecuteTime": {
     "end_time": "2018-05-07T09:44:14.851428Z",
     "start_time": "2018-05-07T09:44:14.848131Z"
    },
    "collapsed": true
   },
   "outputs": [],
   "source": [
    "epochs =10\n",
    "loss_sequene = []\n",
    "num_batches = num_examples / batch_size"
   ]
  },
  {
   "cell_type": "code",
   "execution_count": 110,
   "metadata": {
    "ExecuteTime": {
     "end_time": "2018-05-07T09:45:41.063870Z",
     "start_time": "2018-05-07T09:45:12.824697Z"
    }
   },
   "outputs": [
    {
     "name": "stdout",
     "output_type": "stream",
     "text": [
      "Epoch 0, loss: 0.74395205415\n",
      "Epoch 1, loss: 0.455864119995\n",
      "Epoch 2, loss: 0.27951763631\n",
      "Epoch 3, loss: 0.171572987754\n",
      "Epoch 4, loss: 0.105502302418\n",
      "Epoch 5, loss: 0.0650608475657\n",
      "Epoch 6, loss: 0.0403084642644\n",
      "Epoch 7, loss: 0.0251567380209\n",
      "Epoch 8, loss: 0.0158811236915\n",
      "Epoch 9, loss: 0.0102031620487\n"
     ]
    }
   ],
   "source": [
    "for e in range(epochs):\n",
    "    cum_loss = 0\n",
    "    for i, (data, label) in enumerate(train_data):\n",
    "        data = data.as_in_context(model_ctx)\n",
    "        label = label.as_in_context(model_ctx)\n",
    "        \n",
    "        # calculate derivatives against loss\n",
    "        with autograd.record():\n",
    "            output = net(data)\n",
    "            loss = square_loss(output, label)\n",
    "        loss.backward()\n",
    "        \n",
    "        # update weight (one step parameter update)\n",
    "        trainer.step(batch_size)\n",
    "        cum_loss += nd.mean(loss).asscalar()\n",
    "    print(\"Epoch %s, loss: %s\" % (e, cum_loss/num_examples))\n",
    "    loss_sequene.append(cum_loss)"
   ]
  },
  {
   "cell_type": "code",
   "execution_count": 112,
   "metadata": {
    "ExecuteTime": {
     "end_time": "2018-05-07T09:47:17.348262Z",
     "start_time": "2018-05-07T09:47:17.343824Z"
    }
   },
   "outputs": [
    {
     "data": {
      "text/plain": [
       "[41047.002575591207,\n",
       " 25129.293973267078,\n",
       " 15386.242321163416,\n",
       " 7439.5205415040255,\n",
       " 4558.6411999491975,\n",
       " 2795.1763631002977,\n",
       " 1715.729877541773,\n",
       " 1055.0230241841637,\n",
       " 650.60847565671429,\n",
       " 403.08464264392387,\n",
       " 251.56738020910416,\n",
       " 158.81123691468383,\n",
       " 102.03162048687227]"
      ]
     },
     "execution_count": 112,
     "metadata": {},
     "output_type": "execute_result"
    }
   ],
   "source": [
    "loss_sequene"
   ]
  },
  {
   "cell_type": "code",
   "execution_count": 113,
   "metadata": {
    "ExecuteTime": {
     "end_time": "2018-05-07T09:47:20.492188Z",
     "start_time": "2018-05-07T09:47:20.312626Z"
    }
   },
   "outputs": [
    {
     "data": {
      "text/plain": [
       "<matplotlib.text.Text at 0x1119bcf60>"
      ]
     },
     "execution_count": 113,
     "metadata": {},
     "output_type": "execute_result"
    },
    {
     "data": {
      "image/png": "[encoded data removed]",
      "text/plain": [
       "<matplotlib.figure.Figure at 0x1119e1160>"
      ]
     },
     "metadata": {},
     "output_type": "display_data"
    }
   ],
   "source": [
    "%matplotlib inline\n",
    "\n",
    "import matplotlib\n",
    "import matplotlib.pyplot as plt\n",
    "\n",
    "plt.figure(num=None,figsize=(8, 6))\n",
    "plt.plot(loss_sequene)\n",
    "\n",
    "# Adding some bells and whistles to the plot\n",
    "plt.grid(True, which=\"both\")\n",
    "plt.xlabel('epoch',fontsize=14)\n",
    "plt.ylabel('average loss',fontsize=14)"
   ]
  },
  {
   "cell_type": "code",
   "execution_count": 114,
   "metadata": {
    "ExecuteTime": {
     "end_time": "2018-05-07T09:47:40.106775Z",
     "start_time": "2018-05-07T09:47:40.103847Z"
    },
    "collapsed": true
   },
   "outputs": [],
   "source": [
    "params = net.collect_params()"
   ]
  },
  {
   "cell_type": "code",
   "execution_count": 116,
   "metadata": {
    "ExecuteTime": {
     "end_time": "2018-05-07T09:47:49.018192Z",
     "start_time": "2018-05-07T09:47:49.014636Z"
    }
   },
   "outputs": [
    {
     "name": "stdout",
     "output_type": "stream",
     "text": [
      "The type of \"params\" is a  <class 'mxnet.gluon.parameter.ParameterDict'>\n"
     ]
    }
   ],
   "source": [
    "print('The type of \"params\" is a ',type(params))"
   ]
  },
  {
   "cell_type": "code",
   "execution_count": 117,
   "metadata": {
    "ExecuteTime": {
     "end_time": "2018-05-07T09:47:54.084421Z",
     "start_time": "2018-05-07T09:47:54.079010Z"
    }
   },
   "outputs": [
    {
     "name": "stdout",
     "output_type": "stream",
     "text": [
      "dense7_weight \n",
      "[[ 1.92711401 -3.23252106]]\n",
      "<NDArray 1x2 @cpu(0)>\n",
      "dense7_bias \n",
      "[ 4.04894066]\n",
      "<NDArray 1 @cpu(0)>\n"
     ]
    }
   ],
   "source": [
    "for param in params.values():\n",
    "    print(param.name,param.data())"
   ]
  },
  {
   "cell_type": "code",
   "execution_count": null,
   "metadata": {
    "collapsed": true
   },
   "outputs": [],
   "source": []
  }
 ],
 "metadata": {
  "kernelspec": {
   "display_name": "Python 3",
   "language": "python",
   "name": "python3"
  },
  "language_info": {
   "codemirror_mode": {
    "name": "ipython",
    "version": 3
   },
   "file_extension": ".py",
   "mimetype": "text/x-python",
   "name": "python",
   "nbconvert_exporter": "python",
   "pygments_lexer": "ipython3",
   "version": "3.5.2"
  }
 },
 "nbformat": 4,
 "nbformat_minor": 2
}
