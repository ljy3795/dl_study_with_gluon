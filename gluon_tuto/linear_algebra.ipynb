{
 "cells": [
  {
   "cell_type": "code",
   "execution_count": 1,
   "metadata": {
    "ExecuteTime": {
     "end_time": "2018-04-21T09:07:13.367873Z",
     "start_time": "2018-04-21T09:07:12.406384Z"
    },
    "collapsed": true
   },
   "outputs": [],
   "source": [
    "from mxnet import nd"
   ]
  },
  {
   "cell_type": "markdown",
   "metadata": {},
   "source": [
    "### Scalars"
   ]
  },
  {
   "cell_type": "code",
   "execution_count": 2,
   "metadata": {
    "ExecuteTime": {
     "end_time": "2018-04-21T09:08:29.772553Z",
     "start_time": "2018-04-21T09:08:29.763187Z"
    }
   },
   "outputs": [
    {
     "name": "stdout",
     "output_type": "stream",
     "text": [
      "\n",
      "[ 5.]\n",
      "<NDArray 1 @cpu(0)>\n",
      "\n",
      "[ 6.]\n",
      "<NDArray 1 @cpu(0)>\n",
      "\n",
      "[ 1.5]\n",
      "<NDArray 1 @cpu(0)>\n",
      "\n",
      "[ 9.]\n",
      "<NDArray 1 @cpu(0)>\n"
     ]
    }
   ],
   "source": [
    "x = nd.array([3.0])\n",
    "y = nd.array([2.0])\n",
    "\n",
    "print(x+y)\n",
    "print(x*y)\n",
    "print(x/y)\n",
    "print(nd.power(x,y))"
   ]
  },
  {
   "cell_type": "code",
   "execution_count": 5,
   "metadata": {
    "ExecuteTime": {
     "end_time": "2018-04-21T09:08:55.623473Z",
     "start_time": "2018-04-21T09:08:55.618356Z"
    }
   },
   "outputs": [
    {
     "data": {
      "text/plain": [
       "3.0"
      ]
     },
     "execution_count": 5,
     "metadata": {},
     "output_type": "execute_result"
    }
   ],
   "source": [
    "x.asnumpy()\n",
    "x.asscalar() # convert to python float"
   ]
  },
  {
   "cell_type": "markdown",
   "metadata": {},
   "source": [
    "### Vectors"
   ]
  },
  {
   "cell_type": "code",
   "execution_count": 9,
   "metadata": {
    "ExecuteTime": {
     "end_time": "2018-04-21T09:12:43.080981Z",
     "start_time": "2018-04-21T09:12:43.074367Z"
    }
   },
   "outputs": [
    {
     "name": "stdout",
     "output_type": "stream",
     "text": [
      "\n",
      "[ 0.  1.  2.  3.]\n",
      "<NDArray 4 @cpu(0)>\n"
     ]
    },
    {
     "data": {
      "text/plain": [
       "\n",
       "[ 3.]\n",
       "<NDArray 1 @cpu(0)>"
      ]
     },
     "execution_count": 9,
     "metadata": {},
     "output_type": "execute_result"
    }
   ],
   "source": [
    "u = nd.arange(4)\n",
    "print(u)\n",
    "u[3]"
   ]
  },
  {
   "cell_type": "code",
   "execution_count": 8,
   "metadata": {
    "ExecuteTime": {
     "end_time": "2018-04-21T09:12:21.956663Z",
     "start_time": "2018-04-21T09:12:21.953226Z"
    }
   },
   "outputs": [
    {
     "name": "stdout",
     "output_type": "stream",
     "text": [
      "4\n",
      "(4,)\n"
     ]
    }
   ],
   "source": [
    "print(len(u))\n",
    "print(u.shape)"
   ]
  },
  {
   "cell_type": "code",
   "execution_count": 12,
   "metadata": {
    "ExecuteTime": {
     "end_time": "2018-04-21T09:13:00.021383Z",
     "start_time": "2018-04-21T09:13:00.017189Z"
    }
   },
   "outputs": [
    {
     "data": {
      "text/plain": [
       "(4,)"
      ]
     },
     "execution_count": 12,
     "metadata": {},
     "output_type": "execute_result"
    }
   ],
   "source": [
    "u.reshape((4,1))\n",
    "u.shape"
   ]
  },
  {
   "cell_type": "markdown",
   "metadata": {},
   "source": [
    "### Matrices"
   ]
  },
  {
   "cell_type": "code",
   "execution_count": 16,
   "metadata": {
    "ExecuteTime": {
     "end_time": "2018-04-21T09:14:59.932337Z",
     "start_time": "2018-04-21T09:14:59.925613Z"
    }
   },
   "outputs": [
    {
     "name": "stdout",
     "output_type": "stream",
     "text": [
      "(5, 4)\n"
     ]
    },
    {
     "data": {
      "text/plain": [
       "\n",
       "[[ 0.  0.  0.  0.]\n",
       " [ 0.  0.  0.  0.]\n",
       " [ 0.  0.  0.  0.]\n",
       " [ 0.  0.  0.  0.]\n",
       " [ 0.  0.  0.  0.]]\n",
       "<NDArray 5x4 @cpu(0)>"
      ]
     },
     "execution_count": 16,
     "metadata": {},
     "output_type": "execute_result"
    }
   ],
   "source": [
    "A = nd.zeros((5,4))\n",
    "print(A.shape)\n",
    "A"
   ]
  },
  {
   "cell_type": "code",
   "execution_count": 17,
   "metadata": {
    "ExecuteTime": {
     "end_time": "2018-04-21T09:15:09.222084Z",
     "start_time": "2018-04-21T09:15:09.214365Z"
    }
   },
   "outputs": [
    {
     "data": {
      "text/plain": [
       "\n",
       "[[  0.   1.   2.   3.]\n",
       " [  4.   5.   6.   7.]\n",
       " [  8.   9.  10.  11.]\n",
       " [ 12.  13.  14.  15.]\n",
       " [ 16.  17.  18.  19.]]\n",
       "<NDArray 5x4 @cpu(0)>"
      ]
     },
     "execution_count": 17,
     "metadata": {},
     "output_type": "execute_result"
    }
   ],
   "source": [
    "x = nd.arange(20)\n",
    "A = x.reshape((5, 4))\n",
    "A"
   ]
  },
  {
   "cell_type": "code",
   "execution_count": 20,
   "metadata": {
    "ExecuteTime": {
     "end_time": "2018-04-21T09:16:07.945449Z",
     "start_time": "2018-04-21T09:16:07.939190Z"
    }
   },
   "outputs": [
    {
     "name": "stdout",
     "output_type": "stream",
     "text": [
      "\n",
      "[ 11.]\n",
      "<NDArray 1 @cpu(0)>\n",
      "\n",
      "[  8.   9.  10.  11.]\n",
      "<NDArray 4 @cpu(0)>\n",
      "\n",
      "[  3.   7.  11.  15.  19.]\n",
      "<NDArray 5 @cpu(0)>\n"
     ]
    }
   ],
   "source": [
    "print(A[2,3])\n",
    "print(A[2,:])\n",
    "print(A[:,3])"
   ]
  },
  {
   "cell_type": "code",
   "execution_count": 21,
   "metadata": {
    "ExecuteTime": {
     "end_time": "2018-04-21T09:16:19.031975Z",
     "start_time": "2018-04-21T09:16:19.026683Z"
    }
   },
   "outputs": [
    {
     "data": {
      "text/plain": [
       "\n",
       "[[  0.   4.   8.  12.  16.]\n",
       " [  1.   5.   9.  13.  17.]\n",
       " [  2.   6.  10.  14.  18.]\n",
       " [  3.   7.  11.  15.  19.]]\n",
       "<NDArray 4x5 @cpu(0)>"
      ]
     },
     "execution_count": 21,
     "metadata": {},
     "output_type": "execute_result"
    }
   ],
   "source": [
    "A.T"
   ]
  },
  {
   "cell_type": "markdown",
   "metadata": {},
   "source": [
    "### Tensors"
   ]
  },
  {
   "cell_type": "code",
   "execution_count": 22,
   "metadata": {
    "ExecuteTime": {
     "end_time": "2018-04-21T09:17:28.854892Z",
     "start_time": "2018-04-21T09:17:28.849169Z"
    }
   },
   "outputs": [
    {
     "name": "stdout",
     "output_type": "stream",
     "text": [
      "(2, 3, 4)\n",
      "\n",
      "[[[  0.   1.   2.   3.]\n",
      "  [  4.   5.   6.   7.]\n",
      "  [  8.   9.  10.  11.]]\n",
      "\n",
      " [[ 12.  13.  14.  15.]\n",
      "  [ 16.  17.  18.  19.]\n",
      "  [ 20.  21.  22.  23.]]]\n",
      "<NDArray 2x3x4 @cpu(0)>\n"
     ]
    }
   ],
   "source": [
    "X = nd.arange(24).reshape((2,3,4))\n",
    "print(X.shape)\n",
    "print(X)"
   ]
  },
  {
   "cell_type": "markdown",
   "metadata": {},
   "source": [
    "### element-wise operation"
   ]
  },
  {
   "cell_type": "code",
   "execution_count": 25,
   "metadata": {
    "ExecuteTime": {
     "end_time": "2018-04-21T09:20:02.164224Z",
     "start_time": "2018-04-21T09:20:02.155556Z"
    }
   },
   "outputs": [
    {
     "name": "stdout",
     "output_type": "stream",
     "text": [
      "\n",
      "[ 2.  2.  2.  2.]\n",
      "<NDArray 4 @cpu(0)>\n",
      "\n",
      "[  3.   4.   6.  10.]\n",
      "<NDArray 4 @cpu(0)>\n",
      "\n",
      "[-1.  0.  2.  6.]\n",
      "<NDArray 4 @cpu(0)>\n",
      "\n",
      "[  2.   4.   8.  16.]\n",
      "<NDArray 4 @cpu(0)>\n",
      "\n",
      "[ 0.5  1.   2.   4. ]\n",
      "<NDArray 4 @cpu(0)>\n"
     ]
    }
   ],
   "source": [
    "u = nd.array([1,2,4,8])\n",
    "v = nd.ones_like(u)*2\n",
    "print(v)\n",
    "print(u+v)\n",
    "print(u-v)\n",
    "print(u*v)\n",
    "print(u/v)"
   ]
  },
  {
   "cell_type": "code",
   "execution_count": 28,
   "metadata": {
    "ExecuteTime": {
     "end_time": "2018-04-21T09:20:54.274626Z",
     "start_time": "2018-04-21T09:20:54.266188Z"
    }
   },
   "outputs": [
    {
     "name": "stdout",
     "output_type": "stream",
     "text": [
      "\n",
      "[[  0.   1.   2.   3.]\n",
      " [  4.   5.   6.   7.]\n",
      " [  8.   9.  10.  11.]\n",
      " [ 12.  13.  14.  15.]\n",
      " [ 16.  17.  18.  19.]]\n",
      "<NDArray 5x4 @cpu(0)>\n",
      "\n",
      "[[ 3.  3.  3.  3.]\n",
      " [ 3.  3.  3.  3.]\n",
      " [ 3.  3.  3.  3.]\n",
      " [ 3.  3.  3.  3.]\n",
      " [ 3.  3.  3.  3.]]\n",
      "<NDArray 5x4 @cpu(0)>\n",
      "\n",
      "[[  3.   4.   5.   6.]\n",
      " [  7.   8.   9.  10.]\n",
      " [ 11.  12.  13.  14.]\n",
      " [ 15.  16.  17.  18.]\n",
      " [ 19.  20.  21.  22.]]\n",
      "<NDArray 5x4 @cpu(0)>\n",
      "\n",
      "[[  0.   3.   6.   9.]\n",
      " [ 12.  15.  18.  21.]\n",
      " [ 24.  27.  30.  33.]\n",
      " [ 36.  39.  42.  45.]\n",
      " [ 48.  51.  54.  57.]]\n",
      "<NDArray 5x4 @cpu(0)>\n"
     ]
    }
   ],
   "source": [
    "B = nd.ones_like(A)*3\n",
    "print(A)\n",
    "print(B)\n",
    "print(A+B)\n",
    "print(A*B)"
   ]
  },
  {
   "cell_type": "markdown",
   "metadata": {
    "ExecuteTime": {
     "end_time": "2018-04-21T09:23:44.974987Z",
     "start_time": "2018-04-21T09:23:44.972279Z"
    }
   },
   "source": [
    "### sums and means"
   ]
  },
  {
   "cell_type": "code",
   "execution_count": 34,
   "metadata": {
    "ExecuteTime": {
     "end_time": "2018-04-21T09:24:06.848965Z",
     "start_time": "2018-04-21T09:24:06.840932Z"
    }
   },
   "outputs": [
    {
     "name": "stdout",
     "output_type": "stream",
     "text": [
      "\n",
      "[ 1.  2.  4.  8.]\n",
      "<NDArray 4 @cpu(0)>\n",
      "\n",
      "[ 15.]\n",
      "<NDArray 1 @cpu(0)>\n"
     ]
    },
    {
     "data": {
      "text/plain": [
       "\n",
       "[ 15.]\n",
       "<NDArray 1 @cpu(0)>"
      ]
     },
     "execution_count": 34,
     "metadata": {},
     "output_type": "execute_result"
    }
   ],
   "source": [
    "print(u)\n",
    "print(nd.sum(u))\n",
    "u.sum()"
   ]
  },
  {
   "cell_type": "code",
   "execution_count": 36,
   "metadata": {
    "ExecuteTime": {
     "end_time": "2018-04-21T09:24:20.040748Z",
     "start_time": "2018-04-21T09:24:20.034225Z"
    }
   },
   "outputs": [
    {
     "name": "stdout",
     "output_type": "stream",
     "text": [
      "\n",
      "[[  0.   1.   2.   3.]\n",
      " [  4.   5.   6.   7.]\n",
      " [  8.   9.  10.  11.]\n",
      " [ 12.  13.  14.  15.]\n",
      " [ 16.  17.  18.  19.]]\n",
      "<NDArray 5x4 @cpu(0)>\n"
     ]
    },
    {
     "data": {
      "text/plain": [
       "\n",
       "[ 190.]\n",
       "<NDArray 1 @cpu(0)>"
      ]
     },
     "execution_count": 36,
     "metadata": {},
     "output_type": "execute_result"
    }
   ],
   "source": [
    "print(A)\n",
    "A.sum()"
   ]
  },
  {
   "cell_type": "code",
   "execution_count": 42,
   "metadata": {
    "ExecuteTime": {
     "end_time": "2018-04-21T09:25:07.992118Z",
     "start_time": "2018-04-21T09:25:07.984838Z"
    }
   },
   "outputs": [
    {
     "name": "stdout",
     "output_type": "stream",
     "text": [
      "\n",
      "[ 9.5]\n",
      "<NDArray 1 @cpu(0)>\n"
     ]
    },
    {
     "data": {
      "text/plain": [
       "\n",
       "[  1.5   5.5   9.5  13.5  17.5]\n",
       "<NDArray 5 @cpu(0)>"
      ]
     },
     "execution_count": 42,
     "metadata": {},
     "output_type": "execute_result"
    }
   ],
   "source": [
    "print(nd.mean(A))\n",
    "A.mean(axis = 1)"
   ]
  },
  {
   "cell_type": "markdown",
   "metadata": {},
   "source": [
    "### dot-product"
   ]
  },
  {
   "cell_type": "code",
   "execution_count": 52,
   "metadata": {
    "ExecuteTime": {
     "end_time": "2018-04-21T09:26:33.447937Z",
     "start_time": "2018-04-21T09:26:33.439281Z"
    }
   },
   "outputs": [
    {
     "name": "stdout",
     "output_type": "stream",
     "text": [
      "\n",
      "[ 1.  2.  4.  8.]\n",
      "<NDArray 4 @cpu(0)>\n",
      "\n",
      "[ 2.  2.  2.  2.]\n",
      "<NDArray 4 @cpu(0)>\n",
      "\n",
      "[ 30.]\n",
      "<NDArray 1 @cpu(0)>\n"
     ]
    },
    {
     "data": {
      "text/plain": [
       "\n",
       "[ 30.]\n",
       "<NDArray 1 @cpu(0)>"
      ]
     },
     "execution_count": 52,
     "metadata": {},
     "output_type": "execute_result"
    }
   ],
   "source": [
    "# dot product -> weighted average\n",
    "print(u)\n",
    "print(v)\n",
    "print(nd.dot(u,v))\n",
    "nd.sum(u*v)"
   ]
  },
  {
   "cell_type": "code",
   "execution_count": 55,
   "metadata": {
    "ExecuteTime": {
     "end_time": "2018-04-21T09:28:35.869313Z",
     "start_time": "2018-04-21T09:28:35.865194Z"
    }
   },
   "outputs": [
    {
     "data": {
      "text/plain": [
       "\n",
       "[  34.   94.  154.  214.  274.]\n",
       "<NDArray 5 @cpu(0)>"
      ]
     },
     "execution_count": 55,
     "metadata": {},
     "output_type": "execute_result"
    }
   ],
   "source": [
    "nd.dot(A,u)"
   ]
  },
  {
   "cell_type": "code",
   "execution_count": 58,
   "metadata": {
    "ExecuteTime": {
     "end_time": "2018-04-21T09:29:54.139710Z",
     "start_time": "2018-04-21T09:29:54.135245Z"
    }
   },
   "outputs": [
    {
     "name": "stdout",
     "output_type": "stream",
     "text": [
      "(3, 4)\n",
      "(4,)\n"
     ]
    }
   ],
   "source": [
    "print(A.shape)\n",
    "print(u.shape)"
   ]
  },
  {
   "cell_type": "code",
   "execution_count": 61,
   "metadata": {
    "ExecuteTime": {
     "end_time": "2018-04-21T09:30:18.572682Z",
     "start_time": "2018-04-21T09:30:18.566482Z"
    }
   },
   "outputs": [
    {
     "name": "stdout",
     "output_type": "stream",
     "text": [
      "\n",
      "[[ 4.  4.  4.  4.  4.]\n",
      " [ 4.  4.  4.  4.  4.]\n",
      " [ 4.  4.  4.  4.  4.]]\n",
      "<NDArray 3x5 @cpu(0)>\n",
      "(3, 5)\n"
     ]
    }
   ],
   "source": [
    "A = nd.ones((3,4))\n",
    "B = nd.ones((4,5))\n",
    "print(nd.dot(A,B))\n",
    "print(nd.dot(A,B).shape)"
   ]
  },
  {
   "cell_type": "markdown",
   "metadata": {
    "ExecuteTime": {
     "end_time": "2018-04-21T09:32:04.021175Z",
     "start_time": "2018-04-21T09:32:04.018566Z"
    }
   },
   "source": [
    "### Norm"
   ]
  },
  {
   "cell_type": "code",
   "execution_count": 66,
   "metadata": {
    "ExecuteTime": {
     "end_time": "2018-04-21T09:33:32.278535Z",
     "start_time": "2018-04-21T09:33:32.272457Z"
    }
   },
   "outputs": [
    {
     "name": "stdout",
     "output_type": "stream",
     "text": [
      "\n",
      "[ 1.  2.  4.  8.]\n",
      "<NDArray 4 @cpu(0)>\n",
      "\n",
      "[ 9.21954441]\n",
      "<NDArray 1 @cpu(0)>\n",
      "\n",
      "[ 15.]\n",
      "<NDArray 1 @cpu(0)>\n"
     ]
    }
   ],
   "source": [
    "print(u)\n",
    "print(nd.norm(u)) # L2 norm (euclidean dist.)\n",
    "print(nd.sum(nd.abs(u))) # L1 norm\n",
    "\n",
    "# the term norm is used to describe optimzation term like 'minimize' or 'maximize'"
   ]
  },
  {
   "cell_type": "code",
   "execution_count": null,
   "metadata": {
    "collapsed": true
   },
   "outputs": [],
   "source": []
  }
 ],
 "metadata": {
  "kernelspec": {
   "display_name": "Python 3",
   "language": "python",
   "name": "python3"
  },
  "language_info": {
   "codemirror_mode": {
    "name": "ipython",
    "version": 3
   },
   "file_extension": ".py",
   "mimetype": "text/x-python",
   "name": "python",
   "nbconvert_exporter": "python",
   "pygments_lexer": "ipython3",
   "version": "3.5.2"
  }
 },
 "nbformat": 4,
 "nbformat_minor": 2
}
